{
 "cells": [
  {
   "cell_type": "code",
   "execution_count": 125,
   "metadata": {},
   "outputs": [],
   "source": [
    "import torch\n",
    "import unicodedata\n",
    "import torch.nn as nn \n",
    "import matplotlib.pyplot as plt \n",
    "from IPython.display import Image\n",
    "import io\n",
    "import os\n",
    "import string\n",
    "import glob\n",
    "import torch\n",
    "import random"
   ]
  },
  {
   "cell_type": "markdown",
   "metadata": {},
   "source": [
    "## Some functions to work on files and strings"
   ]
  },
  {
   "cell_type": "markdown",
   "metadata": {},
   "source": [
    "##### parametr"
   ]
  },
  {
   "cell_type": "code",
   "execution_count": 126,
   "metadata": {},
   "outputs": [
    {
     "data": {
      "text/plain": [
       "\"abcdefghijklmnopqrstuvwxyzABCDEFGHIJKLMNOPQRSTUVWXYZ .,;'\""
      ]
     },
     "execution_count": 126,
     "metadata": {},
     "output_type": "execute_result"
    }
   ],
   "source": [
    "CHARACTER = string.ascii_letters + ' ' + '.' + ',' + ';' + \"'\"\n",
    "Len_Character = len(CHARACTER)\n",
    "hid_len = 200\n",
    "Alph = 0.005\n",
    "current_loss = 0\n",
    "Collection_of_losses = []\n",
    "num = 120000\n",
    "local_loss = 0\n",
    "CHARACTER"
   ]
  },
  {
   "cell_type": "code",
   "execution_count": 127,
   "metadata": {},
   "outputs": [],
   "source": [
    "def cnvrt_acti(s):\n",
    "    return ''.join(\n",
    "        c for c in unicodedata.normalize('NFD', s)\n",
    "        if unicodedata.category(c) != 'Mn'\n",
    "        and c in CHARACTER\n",
    "    )"
   ]
  },
  {
   "cell_type": "code",
   "execution_count": 128,
   "metadata": {},
   "outputs": [],
   "source": [
    "def LoadData():\n",
    "    Country_dict = {};All_Country = []\n",
    "\n",
    "    def find_files(path):\n",
    "        return glob.glob(path)\n",
    "\n",
    "    def read_lines(filename):\n",
    "        lines = io.open(filename, encoding='utf-8').read().strip().split('\\n')\n",
    "        return [cnvrt_acti(line) for line in lines]\n",
    "\n",
    "    for filename in find_files('*.txt'):\n",
    "        category = os.path.splitext(os.path.basename(filename))[0]\n",
    "        All_Country.append(category)\n",
    "        lines = read_lines(filename)\n",
    "        Country_dict[category] = lines\n",
    "        \n",
    "    return Country_dict, All_Country"
   ]
  },
  {
   "cell_type": "code",
   "execution_count": 129,
   "metadata": {},
   "outputs": [],
   "source": [
    "def FindInex(letter):\n",
    "    return CHARACTER.find(letter)"
   ]
  },
  {
   "cell_type": "markdown",
   "metadata": {},
   "source": [
    "## One Hot Encoding"
   ]
  },
  {
   "cell_type": "code",
   "execution_count": 130,
   "metadata": {},
   "outputs": [],
   "source": [
    "def oneHot_tensor(line):\n",
    "    tensor = torch.zeros(len(line), 1, Len_Character)\n",
    "    for i, letter in enumerate(line):\n",
    "        tensor[i][0][FindInex(letter)] = 1\n",
    "    return tensor"
   ]
  },
  {
   "cell_type": "code",
   "execution_count": 131,
   "metadata": {},
   "outputs": [],
   "source": [
    "def Random(Country_dict, All_Country):\n",
    "    \n",
    "    def random_choice(a):\n",
    "        random_idx = random.randint(0, len(a) - 1)\n",
    "        return a[random_idx]\n",
    "    \n",
    "    category = random_choice(All_Country)\n",
    "    line = random_choice(Country_dict[category])\n",
    "    category_tensor = torch.tensor([All_Country.index(category)], dtype=torch.long)\n",
    "    line_tensor = oneHot_tensor(line)\n",
    "    return category, line, category_tensor, line_tensor"
   ]
  },
  {
   "cell_type": "markdown",
   "metadata": {},
   "source": [
    "# RNN"
   ]
  },
  {
   "cell_type": "code",
   "execution_count": 132,
   "metadata": {},
   "outputs": [],
   "source": [
    "class RNN(nn.Module):\n",
    "    def __init__(self, inp_len, hid_len, out_len):\n",
    "        super(RNN, self).__init__()\n",
    "        \n",
    "        self.hid_len = hid_len\n",
    "        self.i2h = nn.Linear(inp_len + hid_len, hid_len)\n",
    "        self.i2o = nn.Linear(inp_len + hid_len, out_len)\n",
    "        self.softmax = nn.LogSoftmax(dim=1)\n",
    "        \n",
    "    def forward(self, input_tensor, hidden_tensor):\n",
    "        \n",
    "        combined = torch.hstack((input_tensor, hidden_tensor))\n",
    "        hidden = self.i2h(combined)\n",
    "        out = self.softmax(self.i2o(combined))\n",
    "        \n",
    "        return out, hidden\n",
    "    \n",
    "    def CrtZero(self):\n",
    "        return torch.zeros(1, self.hid_len)"
   ]
  },
  {
   "cell_type": "code",
   "execution_count": 133,
   "metadata": {},
   "outputs": [
    {
     "data": {
      "text/plain": [
       "['Arabic',\n",
       " 'Chinese',\n",
       " 'Czech',\n",
       " 'Dutch',\n",
       " 'English',\n",
       " 'French',\n",
       " 'German',\n",
       " 'Greek',\n",
       " 'Irish',\n",
       " 'Italian',\n",
       " 'Japanese',\n",
       " 'Korean',\n",
       " 'Polish',\n",
       " 'Portuguese',\n",
       " 'Russian',\n",
       " 'Scottish',\n",
       " 'Spanish',\n",
       " 'Vietnamese']"
      ]
     },
     "execution_count": 133,
     "metadata": {},
     "output_type": "execute_result"
    }
   ],
   "source": [
    "Country_dict, All_Country = LoadData()\n",
    "All_Country"
   ]
  },
  {
   "cell_type": "code",
   "execution_count": 134,
   "metadata": {},
   "outputs": [],
   "source": [
    "Sample = RNN(Len_Character, hid_len, len(All_Country))"
   ]
  },
  {
   "cell_type": "code",
   "execution_count": 135,
   "metadata": {},
   "outputs": [],
   "source": [
    "def GetResult(output):\n",
    "    category_idx = torch.argmax(output).item()\n",
    "    return All_Country[category_idx]"
   ]
  },
  {
   "cell_type": "code",
   "execution_count": 136,
   "metadata": {},
   "outputs": [],
   "source": [
    "detriment = nn.NLLLoss()\n",
    "optimizer = torch.optim.SGD(Sample.parameters(), lr=Alph)"
   ]
  },
  {
   "cell_type": "code",
   "execution_count": 137,
   "metadata": {},
   "outputs": [],
   "source": [
    "def TrainingModel(line_tensor, category_tensor):\n",
    "\n",
    "    hidden = Sample.CrtZero()\n",
    "    for i in range(line_tensor.size()[0]):\n",
    "        output, hidden = Sample(line_tensor[i], hidden)\n",
    "        \n",
    "    ls = detriment(output, category_tensor)\n",
    "    ls.backward()\n",
    "\n",
    "    optimizer.step()\n",
    "    optimizer.zero_grad()\n",
    "    \n",
    "    return output, ls.item()"
   ]
  },
  {
   "cell_type": "code",
   "execution_count": 138,
   "metadata": {},
   "outputs": [
    {
     "name": "stdout",
     "output_type": "stream",
     "text": [
      "5999 .  loss =  3.3915   Opp - Chinese , Wrong Answer!!\n",
      "11999 .  loss =  2.5599   Laberenz - Spanish , Wrong Answer!!\n",
      "17999 .  loss =  0.3803   Bertolini - Italian , Correct Answer.\n",
      "23999 .  loss =  0.0807   Avgerinos - Greek , Correct Answer.\n",
      "29999 .  loss =  1.8473   Santos - Greek , Wrong Answer!!\n",
      "35999 .  loss =  1.8602   Obando - Italian , Wrong Answer!!\n",
      "41999 .  loss =  1.3618   Olivier - French , Correct Answer.\n",
      "47999 .  loss =  5.0099   Tourna - Spanish , Wrong Answer!!\n",
      "53999 .  loss =  2.0855   Denby - Czech , Wrong Answer!!\n",
      "59999 .  loss =  0.5491   So - Korean , Correct Answer.\n",
      "65999 .  loss =  2.1389   Carbone - French , Wrong Answer!!\n",
      "71999 .  loss =  1.7130   Isa - Japanese , Wrong Answer!!\n",
      "77999 .  loss =  0.2182   Zientek - Polish , Correct Answer.\n",
      "83999 .  loss =  0.0698   Kaczka - Polish , Correct Answer.\n",
      "89999 .  loss =  0.3025   Cnaimhin - Irish , Correct Answer.\n",
      "95999 .  loss =  3.9460   Sappe - Dutch , Wrong Answer!!\n",
      "101999 .  loss =  1.0950   Clark - Scottish , Correct Answer.\n",
      "107999 .  loss =  0.5449   Orsini - Italian , Correct Answer.\n",
      "113999 .  loss =  2.2979   Bohn - Irish , Wrong Answer!!\n",
      "119999 .  loss =  0.6226   Travers - French , Correct Answer.\n"
     ]
    }
   ],
   "source": [
    "\n",
    "for i in range(num):\n",
    "\n",
    "    country, line, category_tensor, line_tensor = Random(Country_dict, All_Country)\n",
    "    prd, loss = TrainingModel(line_tensor, category_tensor)\n",
    "    \n",
    "    local_loss += loss \n",
    "    \n",
    "    if (i+1) % 5000 == 0:\n",
    "\n",
    "        Collection_of_losses.append(local_loss / 1000)\n",
    "        local_loss = 0\n",
    "        \n",
    "    if (i+1) % 6000 == 0:\n",
    "        guess = GetResult(prd)\n",
    "\n",
    "        if guess == country:\n",
    "            correct = \"Correct Answer.\"\n",
    "        else:\n",
    "            correct = \"Wrong Answer!!\"  \n",
    "\n",
    "        print(i , '. ' , \"loss = \" , f\"{loss:.4f}   {line} - {guess} , {correct}\")"
   ]
  },
  {
   "cell_type": "markdown",
   "metadata": {},
   "source": [
    "### Draw diagram\n"
   ]
  },
  {
   "cell_type": "code",
   "execution_count": 139,
   "metadata": {},
   "outputs": [
    {
     "data": {
      "image/png": "[encoded data removed]",
      "text/plain": [
       "<Figure size 864x504 with 1 Axes>"
      ]
     },
     "metadata": {
      "needs_background": "light"
     },
     "output_type": "display_data"
    }
   ],
   "source": [
    "plt.figure(figsize=(12, 7))\n",
    "plt.plot(Collection_of_losses, color='red')\n",
    "plt.title('Training Loss', fontsize=20)\n",
    "plt.xlabel('Index', fontsize=12)\n",
    "plt.ylabel('Loss', fontsize=12)\n",
    "plt.grid(True)\n",
    "plt.show()"
   ]
  },
  {
   "cell_type": "code",
   "execution_count": 141,
   "metadata": {},
   "outputs": [
    {
     "name": "stdout",
     "output_type": "stream",
     "text": [
      "Input  Narato  , result : Japanese\n",
      "Input  Zhelehovsky  , result : Russian\n",
      "Input  Phi  , result : Korean\n",
      "Input  Adamczak  , result : Polish\n",
      "Input  Lévesque  , result : French\n",
      "Input  Kalakos  , result : Greek\n",
      "Bye.\n"
     ]
    }
   ],
   "source": [
    "while True:\n",
    "    ph = input(\"Do you want to continue or is it over? If you want to continue, enter Yes, otherwise it will end = \")\n",
    "    if ph==\"Yes\":\n",
    "        with torch.no_grad():\n",
    "            input_line = input(\"Input Name :\")\n",
    "\n",
    "            line_tensor = oneHot_tensor(input_line)\n",
    "            hidden = Sample.CrtZero()\n",
    "            \n",
    "            for i in range(line_tensor.shape[0]):\n",
    "                output, hidden = Sample(line_tensor[i], hidden)\n",
    "            \n",
    "            res = GetResult(output)\n",
    "            print(\"Input \",input_line,\" , result :\", res)\n",
    "    else:\n",
    "        print(\"Bye.\")\n",
    "        break"
   ]
  }
 ],
 "metadata": {
  "kernelspec": {
   "display_name": "Python 3",
   "language": "python",
   "name": "python3"
  },
  "language_info": {
   "codemirror_mode": {
    "name": "ipython",
    "version": 3
   },
   "file_extension": ".py",
   "mimetype": "text/x-python",
   "name": "python",
   "nbconvert_exporter": "python",
   "pygments_lexer": "ipython3",
   "version": "3.10.0"
  },
  "orig_nbformat": 4
 },
 "nbformat": 4,
 "nbformat_minor": 2
}

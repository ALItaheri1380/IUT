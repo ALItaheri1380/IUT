{
 "cells": [
  {
   "cell_type": "code",
   "execution_count": 7,
   "metadata": {},
   "outputs": [],
   "source": [
    "import numpy as np\n",
    "import matplotlib.pyplot as plt"
   ]
  },
  {
   "cell_type": "code",
   "execution_count": 8,
   "metadata": {},
   "outputs": [],
   "source": [
    "# csp class\n",
    "class CSP:\n",
    "    def __init__(self , n , board):\n",
    "        self.n = n\n",
    "        self.board = board\n",
    "\n",
    "    # Print table \n",
    "    def PrintTable(self):\n",
    "        table = np.array(self.board)\n",
    "        _ , im = plt.subplots()\n",
    "        im.matshow(table, cmap='binary')\n",
    "\n",
    "        for i in range(len(table)):\n",
    "            for j in range(len(table[i])):\n",
    "                if (i + j) % 2 == 0:\n",
    "                    SquareColor = 'white'  \n",
    "                else:\n",
    "                    SquareColor = 'black'\n",
    "                im.add_patch(plt.Rectangle((j - 0.5, i - 0.5), 1, 1, color=SquareColor))\n",
    "                if table[i, j] == 1:\n",
    "                    plt.text(j, i, '♕', ha='center', va='center', color='r', fontsize=20)\n",
    "\n",
    "        plt.show()\n",
    "\n",
    "    def Constraint(self, row, col):\n",
    "        # Ministers should not be in the same row\n",
    "        for i in range(col):\n",
    "            if self.board[row][i] == 1:\n",
    "                return False \n",
    "            \n",
    "        # Check the diameter (toward the top left)    \n",
    "        r = row ; c = col\n",
    "        while r >= 0 and c >= 0:\n",
    "            if self.board[r][c] == 1:\n",
    "                return False\n",
    "            r -= 1\n",
    "            c -= 1\n",
    "        # Check the diameter (toward the bottom left)    \n",
    "        r = row ; c = col\n",
    "        while r < self.n and c >= 0:\n",
    "            if self.board[r][c] == 1:\n",
    "                return False\n",
    "            r += 1\n",
    "            c -= 1\n",
    "\n",
    "        return True"
   ]
  },
  {
   "cell_type": "code",
   "execution_count": 9,
   "metadata": {},
   "outputs": [],
   "source": [
    "def SelectUnassignedVariable(assignment , csp):\n",
    "    for i in range(csp.n):\n",
    "        if assignment[i] == 'unassigned':\n",
    "            return i"
   ]
  },
  {
   "cell_type": "code",
   "execution_count": 10,
   "metadata": {},
   "outputs": [],
   "source": [
    "def OrderDomainValue(csp):\n",
    "    return list(range(csp.n)) "
   ]
  },
  {
   "cell_type": "code",
   "execution_count": 11,
   "metadata": {},
   "outputs": [],
   "source": [
    "# Backbacktracking search \n",
    "def BT(csp, assignment):\n",
    "    if assignment.count('assigned') == csp.n: # Reaching the last column and returning true\n",
    "        return csp\n",
    "    var = SelectUnassignedVariable(assignment , csp)\n",
    "\n",
    "    for i in OrderDomainValue(csp):\n",
    "        if csp.Constraint(i , var): #If the table was safe\n",
    "            csp.board[i][var] = 1\n",
    "            assignment[var] = 'assigned'\n",
    "            if BT(csp , assignment):\n",
    "                return True\n",
    "            csp.board[i][var] = 0\n",
    "            \n",
    "    assignment[var] = 'unassigned'\n",
    "    return False # to backbacktrack "
   ]
  },
  {
   "cell_type": "code",
   "execution_count": 12,
   "metadata": {},
   "outputs": [
    {
     "name": "stdout",
     "output_type": "stream",
     "text": [
      "Solution found!\n"
     ]
    },
    {
     "data": {
      "image/png": "[encoded data removed]",
      "text/plain": [
       "<Figure size 432x288 with 1 Axes>"
      ]
     },
     "metadata": {
      "needs_background": "light"
     },
     "output_type": "display_data"
    }
   ],
   "source": [
    "n = 9 #int(input())\n",
    "table = [[0 for _ in range(n)] for _ in range(n)]\n",
    "sample = CSP(n , table)\n",
    "assignment = ['unassigned' for _ in range(n)]\n",
    "\n",
    "if not BT(sample , assignment):\n",
    "    print(\"Solution does not exist\")\n",
    "else:\n",
    "    print(\"Solution found!\")\n",
    "    sample.PrintTable()"
   ]
  }
 ],
 "metadata": {
  "kernelspec": {
   "display_name": "Python 3",
   "language": "python",
   "name": "python3"
  },
  "language_info": {
   "codemirror_mode": {
    "name": "ipython",
    "version": 3
   },
   "file_extension": ".py",
   "mimetype": "text/x-python",
   "name": "python",
   "nbconvert_exporter": "python",
   "pygments_lexer": "ipython3",
   "version": "3.10.0"
  }
 },
 "nbformat": 4,
 "nbformat_minor": 2
}

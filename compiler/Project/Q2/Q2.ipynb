{
  "cells": [
    {
      "cell_type": "code",
      "execution_count": 43,
      "metadata": {
        "id": "P-FO1gGZ6TLi"
      },
      "outputs": [],
      "source": [
        "import ast\n",
        "from tabulate import tabulate\n",
        "from graphviz import Digraph\n",
        "import matplotlib.pyplot as plt\n",
        "import matplotlib.image as mpimg"
      ]
    },
    {
      "cell_type": "code",
      "execution_count": 44,
      "metadata": {
        "id": "G3mw1-Sh6U4g"
      },
      "outputs": [],
      "source": [
        "inp = \"{ 'E': ['TE`'], 'E`': ['+TE`', ''], 'T': ['FT`'], 'T`': ['*FT`', ''], 'F': ['(E)', 'id'] }\"\n",
        "## inp = input()\n",
        "inpg = ast.literal_eval(inp)\n",
        "start_symbol = list(inpg.keys())[0]"
      ]
    },
    {
      "cell_type": "code",
      "execution_count": 45,
      "metadata": {
        "id": "TGlr7tTP6dr_"
      },
      "outputs": [],
      "source": [
        "def pre_process(g):\n",
        "    res = {}\n",
        "    for non_terminal in g:\n",
        "        res[non_terminal] = []\n",
        "        for prd in g[non_terminal]:\n",
        "            crnt = []\n",
        "            i = 0\n",
        "            while i < len(prd):\n",
        "                if prd[i].isupper():\n",
        "                    if i + 1 < len(prd) and prd[i+1] == '`':\n",
        "                        crnt.append(prd[i:i+2])\n",
        "                        i += 2\n",
        "                    else:\n",
        "                        crnt.append(prd[i])\n",
        "                        i += 1\n",
        "                elif prd[i].islower():\n",
        "                    j = 1\n",
        "                    while i+j < len(prd) and prd[i+j].islower():\n",
        "                        j += 1\n",
        "                    crnt.append(prd[i:i+j])\n",
        "                    i += j\n",
        "                else:\n",
        "                    crnt.append(prd[i])\n",
        "                    i += 1\n",
        "            if prd == '':\n",
        "                crnt.append('')\n",
        "            res[non_terminal].append(crnt)\n",
        "    return res"
      ]
    },
    {
      "cell_type": "code",
      "execution_count": 46,
      "metadata": {
        "id": "_FlbL0zc6gN4"
      },
      "outputs": [],
      "source": [
        "def clc_first(g, X):\n",
        "    if len(X) == 0:\n",
        "        return {''}, None\n",
        "\n",
        "    non_terminals = list(g.keys())\n",
        "    if type(X) == str and X not in non_terminals and (len(X) == 1 or X.islower()):\n",
        "        return {X}, None\n",
        "\n",
        "    first_set = set()\n",
        "    terminal_production = {}\n",
        "    if X in non_terminals:\n",
        "        for prd in g[X]:\n",
        "            f = clc_first(g, prd)[0]\n",
        "            first_set |= f\n",
        "            for terminal in f:\n",
        "                terminal_production[terminal] = prd\n",
        "        return first_set, terminal_production\n",
        "\n",
        "    has_epsilon = True\n",
        "    i = 0\n",
        "    while i < len(X) and has_epsilon:\n",
        "        has_epsilon = False\n",
        "        f = clc_first(g, X[i])[0]\n",
        "        i += 1\n",
        "        if '' in f:\n",
        "            has_epsilon = True\n",
        "        first_set |= f\n",
        "    return first_set, None"
      ]
    },
    {
      "cell_type": "code",
      "execution_count": 47,
      "metadata": {
        "id": "jENdC-0c6jHC"
      },
      "outputs": [],
      "source": [
        "def clc_follow(g, A):\n",
        "    global start_symbol\n",
        "\n",
        "    follow_set = set()\n",
        "    if A == start_symbol:\n",
        "        follow_set.add(\"$\")\n",
        "\n",
        "    non_terminals = list(g.keys())\n",
        "    for non_terminal in non_terminals:\n",
        "        for prd in g[non_terminal]:\n",
        "            for i in range(len(prd)):\n",
        "                item = prd[i]\n",
        "                if item == A:\n",
        "                    if i + 1 == len(prd) and A != non_terminal:\n",
        "                        follow_set |= clc_follow(g, non_terminal)\n",
        "                    elif i + 1 < len(prd):\n",
        "                        f = clc_first(g, prd[i+1])[0]\n",
        "                        if '' in f:\n",
        "                            f.remove('')\n",
        "                            follow_set |= clc_follow(g, non_terminal)\n",
        "                        follow_set |= f\n",
        "    return follow_set"
      ]
    },
    {
      "cell_type": "code",
      "execution_count": 48,
      "metadata": {
        "id": "UOnx2i3m6l4P"
      },
      "outputs": [],
      "source": [
        "def parse_table(g):\n",
        "    table = {}\n",
        "    for non_terminal in g:\n",
        "        table[non_terminal] = {}\n",
        "        f, terminal_production = clc_first(g, non_terminal)\n",
        "        for terminal in terminal_production:\n",
        "            if terminal == '':\n",
        "                continue\n",
        "            table[non_terminal][terminal] = terminal_production[terminal]\n",
        "        if '' in f:\n",
        "            fol = clc_follow(g, non_terminal)\n",
        "            for terminal in fol:\n",
        "                table[non_terminal][terminal] = terminal_production['']\n",
        "    return table"
      ]
    },
    {
      "cell_type": "code",
      "execution_count": 49,
      "metadata": {
        "id": "OjfxpXnE6n-m"
      },
      "outputs": [],
      "source": [
        "def terminals_of(g):\n",
        "    non_terminals = list(g.keys())\n",
        "    terminals = {\"$\"}\n",
        "    for non_terminal in g:\n",
        "        for prd in g[non_terminal]:\n",
        "            for item in prd:\n",
        "                if item not in non_terminals:\n",
        "                    terminals.add(item)\n",
        "    return list(terminals)"
      ]
    },
    {
      "cell_type": "code",
      "execution_count": 50,
      "metadata": {
        "id": "KwVn4P616rzo"
      },
      "outputs": [],
      "source": [
        "def print_table(g, table):\n",
        "    non_terminals = list(g.keys())\n",
        "    terminals = terminals_of(g)\n",
        "    terminals.remove('')\n",
        "\n",
        "    data = []\n",
        "    for non_terminal in non_terminals:\n",
        "        row = [non_terminal]\n",
        "        for terminal in terminals:\n",
        "            if terminal in table[non_terminal]:\n",
        "                prd = ''.join(table[non_terminal][terminal])\n",
        "                if prd == '':\n",
        "                    prd = 'ε'\n",
        "                prd = non_terminal + \" -> \" + prd\n",
        "                row.append(prd)\n",
        "            else:\n",
        "                row.append('')\n",
        "        data.append(row)\n",
        "    print(tabulate(data, headers=terminals, tablefmt='orgtbl'))"
      ]
    },
    {
      "cell_type": "code",
      "execution_count": 51,
      "metadata": {
        "id": "bd02zb416tL3"
      },
      "outputs": [],
      "source": [
        "def next_symbol(string, terminals):\n",
        "    next = ''\n",
        "    for terminal in terminals:\n",
        "        if string.startswith(terminal):\n",
        "            next = terminal\n",
        "            break\n",
        "    return next"
      ]
    },
    {
      "cell_type": "code",
      "execution_count": 52,
      "metadata": {
        "id": "1ioNxccA6uc3"
      },
      "outputs": [],
      "source": [
        "def create_unique_node(base_name, counter):\n",
        "    unique_name = f\"{base_name}_{counter}\"\n",
        "    counter += 1\n",
        "    return unique_name, counter"
      ]
    },
    {
      "cell_type": "code",
      "execution_count": 53,
      "metadata": {
        "id": "hIDVxVb96vfA"
      },
      "outputs": [],
      "source": [
        "def left_most_derivation(g, table, string):\n",
        "    global start_symbol\n",
        "    terminals = terminals_of(g)\n",
        "    terminals.remove('')\n",
        "    string += \"$\"\n",
        "    start = next_symbol(string, terminals)\n",
        "    stack = [\"$\", start_symbol]\n",
        "    while string != '' or len(stack) > 0:\n",
        "        if start == stack[-1]:\n",
        "            stack = stack[:-1]\n",
        "            string = string[len(start):]\n",
        "            start = next_symbol(string, terminals)\n",
        "        elif start in table[stack[-1]]:\n",
        "            popped = stack[-1]\n",
        "            stack = stack[:-1]\n",
        "            l = list(reversed(table[popped][start]))\n",
        "            if l[0] != '':\n",
        "                stack = stack + l\n",
        "                print(popped + \" -> \" + ''.join(table[popped][start]))\n",
        "            else:\n",
        "                print(popped + \" -> ε\")\n",
        "        else:\n",
        "            raise Exception()"
      ]
    },
    {
      "cell_type": "code",
      "execution_count": 54,
      "metadata": {
        "id": "Xqhp-M6s61bQ"
      },
      "outputs": [],
      "source": [
        "def left_most_derivation_picture(g, table, string):\n",
        "    global start_symbol\n",
        "    terminals = terminals_of(g)\n",
        "    terminals.remove('')\n",
        "    string += \"$\"\n",
        "\n",
        "    start = next_symbol(string, terminals)\n",
        "    stack = [\"$\", start_symbol]\n",
        "    parse_tree_stack = [create_unique_node(start_symbol, 0)[0]]\n",
        "\n",
        "    graph = Digraph()\n",
        "    node_counter = 1\n",
        "\n",
        "    while len(stack) > 1:\n",
        "        if start == stack[-1]:\n",
        "            stack.pop()\n",
        "            parse_tree_stack.pop()\n",
        "            string = string[len(start):]\n",
        "            start = next_symbol(string, terminals)\n",
        "        elif stack[-1] in table and start in table[stack[-1]]:\n",
        "            popped = stack.pop()\n",
        "            parent = parse_tree_stack.pop()\n",
        "            l = list(reversed(table[popped][start]))\n",
        "\n",
        "            if l[0] != '':\n",
        "                for child in l:\n",
        "                    stack.append(child)\n",
        "                    child_node, node_counter = create_unique_node(child, node_counter)\n",
        "                    parse_tree_stack.append(child_node)\n",
        "                    graph.node(child_node, child, color='red', fontcolor='black')\n",
        "                    graph.edge(parent, child_node, color='blue')\n",
        "            else:\n",
        "                epsilon_node, node_counter = create_unique_node('ε', node_counter)\n",
        "                graph.node(epsilon_node, 'ε', color='red', fontcolor='black')\n",
        "                graph.edge(parent, epsilon_node, color='blue')\n",
        "        else:\n",
        "            raise Exception(\"Error in parsing\")\n",
        "\n",
        "    graph.render('parse_tree', format='png', cleanup=True)\n",
        "\n",
        "    image = mpimg.imread('parse_tree.png')\n",
        "    plt.imshow(image)\n",
        "    plt.axis('off')\n",
        "    plt.show()"
      ]
    },
    {
      "cell_type": "code",
      "execution_count": 55,
      "metadata": {
        "id": "zwMHlQHi641_"
      },
      "outputs": [],
      "source": [
        "inpg = pre_process(inpg)"
      ]
    },
    {
      "cell_type": "code",
      "execution_count": 56,
      "metadata": {
        "colab": {
          "base_uri": "https://localhost:8080/"
        },
        "id": "1zfARz2u66Ao",
        "outputId": "a7837883-278a-4093-a45c-de090a9754ec"
      },
      "outputs": [
        {
          "name": "stdout",
          "output_type": "stream",
          "text": [
            "First(E) = {'(', 'id'} \n",
            "\n",
            "First(E`) = {'', '+'} \n",
            "\n",
            "First(T) = {'(', 'id'} \n",
            "\n",
            "First(T`) = {'', '*'} \n",
            "\n",
            "First(F) = {'(', 'id'} \n",
            "\n"
          ]
        }
      ],
      "source": [
        "for non_terminal in inpg:\n",
        "    print(f\"First({non_terminal}) = \" + str(clc_first(inpg, non_terminal)[0]),'\\n')"
      ]
    },
    {
      "cell_type": "code",
      "execution_count": 57,
      "metadata": {
        "colab": {
          "base_uri": "https://localhost:8080/"
        },
        "id": "VXL7evZi7AKJ",
        "outputId": "3f1b3c29-6d90-4ae9-fda7-4106bdbd70a0"
      },
      "outputs": [
        {
          "name": "stdout",
          "output_type": "stream",
          "text": [
            "Follow(E) = {'$', ')'} \n",
            "\n",
            "Follow(E`) = {'$', ')'} \n",
            "\n",
            "Follow(T) = {'+', '$', ')'} \n",
            "\n",
            "Follow(T`) = {'+', '$', ')'} \n",
            "\n",
            "Follow(F) = {'+', '$', ')', '*'} \n",
            "\n"
          ]
        }
      ],
      "source": [
        "for non_terminal in inpg:\n",
        "    print(f\"Follow({non_terminal}) = \" + str(clc_follow(inpg, non_terminal)),'\\n')"
      ]
    },
    {
      "cell_type": "code",
      "execution_count": 58,
      "metadata": {
        "colab": {
          "base_uri": "https://localhost:8080/"
        },
        "id": "edflOanI7DqQ",
        "outputId": "6adbd5b2-7ade-4a87-c261-804957389598"
      },
      "outputs": [
        {
          "name": "stdout",
          "output_type": "stream",
          "text": [
            "|    | +          | $       | id       | (        | )       | *          |\n",
            "|----+------------+---------+----------+----------+---------+------------|\n",
            "| E  |            |         | E -> TE` | E -> TE` |         |            |\n",
            "| E` | E` -> +TE` | E` -> ε |          |          | E` -> ε |            |\n",
            "| T  |            |         | T -> FT` | T -> FT` |         |            |\n",
            "| T` | T` -> ε    | T` -> ε |          |          | T` -> ε | T` -> *FT` |\n",
            "| F  |            |         | F -> id  | F -> (E) |         |            |\n"
          ]
        }
      ],
      "source": [
        "p_table = parse_table(inpg)\n",
        "print_table(inpg, p_table)"
      ]
    },
    {
      "cell_type": "code",
      "execution_count": 59,
      "metadata": {
        "colab": {
          "base_uri": "https://localhost:8080/"
        },
        "id": "ExG-5ucl7GBg",
        "outputId": "48c4961e-e741-4b0d-8f68-6e106ab9127d"
      },
      "outputs": [
        {
          "name": "stdout",
          "output_type": "stream",
          "text": [
            "Input string: id+id*id\n",
            "\n",
            "Left-Most Derivation:\n",
            "E -> TE`\n",
            "T -> FT`\n",
            "F -> id\n",
            "T` -> ε\n",
            "E` -> +TE`\n",
            "T -> FT`\n",
            "F -> id\n",
            "T` -> *FT`\n",
            "F -> id\n",
            "T` -> ε\n",
            "E` -> ε\n"
          ]
        }
      ],
      "source": [
        "inp_str = input(\"Input string: \")\n",
        "print(\"\\nLeft-Most Derivation:\")\n",
        "left_most_derivation(inpg, p_table, inp_str)"
      ]
    },
    {
      "cell_type": "code",
      "execution_count": 60,
      "metadata": {
        "colab": {
          "base_uri": "https://localhost:8080/",
          "height": 461
        },
        "id": "bvpVOceb5lpJ",
        "outputId": "2193c622-c00b-44b3-b4fc-ce0d7d23894b"
      },
      "outputs": [
        {
          "name": "stdout",
          "output_type": "stream",
          "text": [
            "\n",
            "Tree Left-Most Derivation:\n",
            "\n"
          ]
        },
        {
          "data": {
            "image/png": "[encoded data removed]",
            "text/plain": [
              "<Figure size 640x480 with 1 Axes>"
            ]
          },
          "metadata": {},
          "output_type": "display_data"
        }
      ],
      "source": [
        "print(\"\\nTree Left-Most Derivation:\\n\")\n",
        "left_most_derivation_picture(inpg, p_table, inp_str)"
      ]
    }
  ],
  "metadata": {
    "accelerator": "GPU",
    "colab": {
      "gpuType": "T4",
      "provenance": []
    },
    "kernelspec": {
      "display_name": "Python 3",
      "name": "python3"
    },
    "language_info": {
      "name": "python"
    }
  },
  "nbformat": 4,
  "nbformat_minor": 0
}
